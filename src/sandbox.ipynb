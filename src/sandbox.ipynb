{
 "cells": [
  {
   "cell_type": "code",
   "execution_count": 2,
   "outputs": [
    {
     "name": "stdout",
     "output_type": "stream",
     "text": [
      "The autoreload extension is already loaded. To reload it, use:\n",
      "  %reload_ext autoreload\n"
     ]
    }
   ],
   "source": [
    "#!/usr/bin/env python\n",
    "# -*- coding: utf-8 -*-\n",
    "\n",
    "# Author: Milan Ondrasovic <milan.ondrasovic@gmail.com>\n",
    "\n",
    "import math\n",
    "from typing import *\n",
    "\n",
    "import torch\n",
    "import torch.nn as nn\n",
    "import torch.nn.functional as F\n",
    "from torchvision import transforms\n",
    "\n",
    "import cv2 as cv\n",
    "import numpy as np\n",
    "\n",
    "import matplotlib.pyplot as plt\n",
    "\n",
    "from PIL import Image, ImageStat, ImageOps\n",
    "\n",
    "plt.style.use('tableau-colorblind10')\n",
    "plt.rcParams['font.family'] = 'Times New Roman'\n",
    "plt.rcParams['font.size'] = 11\n",
    "\n",
    "%load_ext autoreload\n",
    "%autoreload 2"
   ],
   "metadata": {
    "collapsed": false,
    "pycharm": {
     "name": "#%%\n"
    }
   }
  },
  {
   "cell_type": "code",
   "execution_count": null,
   "outputs": [],
   "source": [
    "my_model_file_path = \"../model_siamfc.pth\"\n",
    "my_model = torch.load(my_model_file_path, map_location=torch.device('cpu'))\n",
    "\n",
    "new_model_file_path = \"../siamfc_alexnet_e50.pth\"\n",
    "new_model = torch.load(new_model_file_path, map_location=torch.device('cpu'))\n",
    "\n",
    "len(my_model), len(new_model)"
   ],
   "metadata": {
    "collapsed": false,
    "pycharm": {
     "name": "#%%\n"
    }
   }
  },
  {
   "cell_type": "code",
   "execution_count": null,
   "outputs": [],
   "source": [
    "for my_item, new_item in zip(my_model.items(), new_model.items()):\n",
    "    print(\"*\" * 80)\n",
    "    print(f\"M: {my_item[0]} {list(my_item[1].shape)}\")\n",
    "    print(f\"N: {new_item[0]} {list(new_item[1].shape)}\")"
   ],
   "metadata": {
    "collapsed": false,
    "pycharm": {
     "name": "#%%\n"
    }
   }
  },
  {
   "cell_type": "code",
   "execution_count": null,
   "outputs": [],
   "source": [
    "new_model_data = OrderedDict()\n",
    "\n",
    "for my_item, new_item in zip(my_model.items(), new_model.items()):\n",
    "    new_model_data[my_item[0]] = new_item[1]\n",
    "\n",
    "for item in new_model_data.items():\n",
    "    print(f\"{item[0]} {list(item[1].shape)}\")\n",
    "\n",
    "torch.save(new_model_data, \"../model_combined.pth\")"
   ],
   "metadata": {
    "collapsed": false,
    "pycharm": {
     "name": "#%%\n"
    }
   }
  },
  {
   "cell_type": "code",
   "execution_count": 3,
   "outputs": [
    {
     "data": {
      "text/plain": "933.6"
     },
     "execution_count": 3,
     "metadata": {},
     "output_type": "execute_result"
    }
   ],
   "source": [
    "n = 9336\n",
    "n * 0.1"
   ],
   "metadata": {
    "collapsed": false,
    "pycharm": {
     "name": "#%%\n"
    }
   }
  }
 ],
 "metadata": {
  "kernelspec": {
   "name": "python3",
   "language": "python",
   "display_name": "Python 3"
  },
  "language_info": {
   "codemirror_mode": {
    "name": "ipython",
    "version": 2
   },
   "file_extension": ".py",
   "mimetype": "text/x-python",
   "name": "python",
   "nbconvert_exporter": "python",
   "pygments_lexer": "ipython2",
   "version": "2.7.6"
  }
 },
 "nbformat": 4,
 "nbformat_minor": 0
}