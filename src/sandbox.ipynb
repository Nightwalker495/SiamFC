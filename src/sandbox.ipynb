{
 "cells": [
  {
   "cell_type": "code",
   "execution_count": 3,
   "outputs": [
    {
     "name": "stdout",
     "output_type": "stream",
     "text": [
      "The autoreload extension is already loaded. To reload it, use:\n",
      "  %reload_ext autoreload\n"
     ]
    }
   ],
   "source": [
    "#!/usr/bin/env python\n",
    "# -*- coding: utf-8 -*-\n",
    "\n",
    "# Author: Milan Ondrasovic <milan.ondrasovic@gmail.com>\n",
    "\n",
    "from typing import *\n",
    "\n",
    "import torch\n",
    "import torch.nn as nn\n",
    "import torch.nn.functional as F\n",
    "from torchvision import transforms\n",
    "\n",
    "import cv2 as cv\n",
    "import numpy as np\n",
    "\n",
    "import matplotlib.pyplot as plt\n",
    "\n",
    "from PIL import Image, ImageStat, ImageOps\n",
    "\n",
    "from sot.bbox import BBox\n",
    "from sot.utils import Size\n",
    "\n",
    "plt.style.use('tableau-colorblind10')\n",
    "plt.rcParams['font.family'] = 'Times New Roman'\n",
    "plt.rcParams['font.size'] = 11\n",
    "\n",
    "%load_ext autoreload\n",
    "%autoreload 2"
   ],
   "metadata": {
    "collapsed": false,
    "pycharm": {
     "name": "#%%\n"
    }
   }
  },
  {
   "cell_type": "code",
   "execution_count": 20,
   "outputs": [
    {
     "data": {
      "text/plain": "(30, 30)"
     },
     "execution_count": 20,
     "metadata": {},
     "output_type": "execute_result"
    }
   ],
   "source": [
    "my_model_file_path = \"../model_siamfc.pth\"\n",
    "my_model = torch.load(my_model_file_path, map_location=torch.device('cpu'))\n",
    "\n",
    "new_model_file_path = \"../siamfc_alexnet_e50.pth\"\n",
    "new_model = torch.load(new_model_file_path, map_location=torch.device('cpu'))\n",
    "\n",
    "len(my_model), len(new_model)"
   ],
   "metadata": {
    "collapsed": false,
    "pycharm": {
     "name": "#%%\n"
    }
   }
  },
  {
   "cell_type": "code",
   "execution_count": 24,
   "outputs": [
    {
     "name": "stdout",
     "output_type": "stream",
     "text": [
      "********************************************************************************\n",
      "M: conv1.block.0.weight [96, 3, 11, 11]\n",
      "N: backbone.conv1.0.weight [96, 3, 11, 11]\n",
      "********************************************************************************\n",
      "M: conv1.block.0.bias [96]\n",
      "N: backbone.conv1.0.bias [96]\n",
      "********************************************************************************\n",
      "M: conv1.block.1.weight [96]\n",
      "N: backbone.conv1.1.weight [96]\n",
      "********************************************************************************\n",
      "M: conv1.block.1.bias [96]\n",
      "N: backbone.conv1.1.bias [96]\n",
      "********************************************************************************\n",
      "M: conv1.block.1.running_mean [96]\n",
      "N: backbone.conv1.1.running_mean [96]\n",
      "********************************************************************************\n",
      "M: conv1.block.1.running_var [96]\n",
      "N: backbone.conv1.1.running_var [96]\n",
      "********************************************************************************\n",
      "M: conv1.block.1.num_batches_tracked []\n",
      "N: backbone.conv1.1.num_batches_tracked []\n",
      "********************************************************************************\n",
      "M: conv2.block.0.weight [256, 48, 5, 5]\n",
      "N: backbone.conv2.0.weight [256, 48, 5, 5]\n",
      "********************************************************************************\n",
      "M: conv2.block.0.bias [256]\n",
      "N: backbone.conv2.0.bias [256]\n",
      "********************************************************************************\n",
      "M: conv2.block.1.weight [256]\n",
      "N: backbone.conv2.1.weight [256]\n",
      "********************************************************************************\n",
      "M: conv2.block.1.bias [256]\n",
      "N: backbone.conv2.1.bias [256]\n",
      "********************************************************************************\n",
      "M: conv2.block.1.running_mean [256]\n",
      "N: backbone.conv2.1.running_mean [256]\n",
      "********************************************************************************\n",
      "M: conv2.block.1.running_var [256]\n",
      "N: backbone.conv2.1.running_var [256]\n",
      "********************************************************************************\n",
      "M: conv2.block.1.num_batches_tracked []\n",
      "N: backbone.conv2.1.num_batches_tracked []\n",
      "********************************************************************************\n",
      "M: conv3.block.0.weight [384, 256, 3, 3]\n",
      "N: backbone.conv3.0.weight [384, 256, 3, 3]\n",
      "********************************************************************************\n",
      "M: conv3.block.0.bias [384]\n",
      "N: backbone.conv3.0.bias [384]\n",
      "********************************************************************************\n",
      "M: conv3.block.1.weight [384]\n",
      "N: backbone.conv3.1.weight [384]\n",
      "********************************************************************************\n",
      "M: conv3.block.1.bias [384]\n",
      "N: backbone.conv3.1.bias [384]\n",
      "********************************************************************************\n",
      "M: conv3.block.1.running_mean [384]\n",
      "N: backbone.conv3.1.running_mean [384]\n",
      "********************************************************************************\n",
      "M: conv3.block.1.running_var [384]\n",
      "N: backbone.conv3.1.running_var [384]\n",
      "********************************************************************************\n",
      "M: conv3.block.1.num_batches_tracked []\n",
      "N: backbone.conv3.1.num_batches_tracked []\n",
      "********************************************************************************\n",
      "M: conv4.block.0.weight [384, 384, 3, 3]\n",
      "N: backbone.conv4.0.weight [384, 192, 3, 3]\n",
      "********************************************************************************\n",
      "M: conv4.block.0.bias [384]\n",
      "N: backbone.conv4.0.bias [384]\n",
      "********************************************************************************\n",
      "M: conv4.block.1.weight [384]\n",
      "N: backbone.conv4.1.weight [384]\n",
      "********************************************************************************\n",
      "M: conv4.block.1.bias [384]\n",
      "N: backbone.conv4.1.bias [384]\n",
      "********************************************************************************\n",
      "M: conv4.block.1.running_mean [384]\n",
      "N: backbone.conv4.1.running_mean [384]\n",
      "********************************************************************************\n",
      "M: conv4.block.1.running_var [384]\n",
      "N: backbone.conv4.1.running_var [384]\n",
      "********************************************************************************\n",
      "M: conv4.block.1.num_batches_tracked []\n",
      "N: backbone.conv4.1.num_batches_tracked []\n",
      "********************************************************************************\n",
      "M: conv5.block.0.weight [256, 192, 3, 3]\n",
      "N: backbone.conv5.0.weight [256, 192, 3, 3]\n",
      "********************************************************************************\n",
      "M: conv5.block.0.bias [256]\n",
      "N: backbone.conv5.0.bias [256]\n"
     ]
    }
   ],
   "source": [
    "for my_item, new_item in zip(my_model.items(), new_model.items()):\n",
    "    print(\"*\" * 80)\n",
    "    print(f\"M: {my_item[0]} {list(my_item[1].shape)}\")\n",
    "    print(f\"N: {new_item[0]} {list(new_item[1].shape)}\")"
   ],
   "metadata": {
    "collapsed": false,
    "pycharm": {
     "name": "#%%\n"
    }
   }
  }
 ],
 "metadata": {
  "kernelspec": {
   "name": "python3",
   "language": "python",
   "display_name": "Python 3"
  },
  "language_info": {
   "codemirror_mode": {
    "name": "ipython",
    "version": 2
   },
   "file_extension": ".py",
   "mimetype": "text/x-python",
   "name": "python",
   "nbconvert_exporter": "python",
   "pygments_lexer": "ipython2",
   "version": "2.7.6"
  }
 },
 "nbformat": 4,
 "nbformat_minor": 0
}