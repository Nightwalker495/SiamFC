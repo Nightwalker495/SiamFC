{
 "cells": [
  {
   "cell_type": "code",
   "execution_count": 6,
   "outputs": [
    {
     "name": "stdout",
     "output_type": "stream",
     "text": [
      "The autoreload extension is already loaded. To reload it, use:\n",
      "  %reload_ext autoreload\n"
     ]
    }
   ],
   "source": [
    "#!/usr/bin/env python\n",
    "# -*- coding: utf-8 -*-\n",
    "\n",
    "# Author: Milan Ondrasovic <milan.ondrasovic@gmail.com>\n",
    "\n",
    "import math\n",
    "from typing import *\n",
    "\n",
    "import torch\n",
    "import torch.nn as nn\n",
    "import torch.nn.functional as F\n",
    "from torchvision import transforms\n",
    "\n",
    "import cv2 as cv\n",
    "import numpy as np\n",
    "\n",
    "import matplotlib.pyplot as plt\n",
    "\n",
    "from PIL import Image, ImageStat, ImageOps\n",
    "\n",
    "from sot.bbox import BBox\n",
    "from sot.utils import Size\n",
    "\n",
    "plt.style.use('tableau-colorblind10')\n",
    "plt.rcParams['font.family'] = 'Times New Roman'\n",
    "plt.rcParams['font.size'] = 11\n",
    "\n",
    "%load_ext autoreload\n",
    "%autoreload 2"
   ],
   "metadata": {
    "collapsed": false,
    "pycharm": {
     "name": "#%%\n"
    }
   }
  },
  {
   "cell_type": "code",
   "execution_count": null,
   "outputs": [],
   "source": [
    "my_model_file_path = \"../model_siamfc.pth\"\n",
    "my_model = torch.load(my_model_file_path, map_location=torch.device('cpu'))\n",
    "\n",
    "new_model_file_path = \"../siamfc_alexnet_e50.pth\"\n",
    "new_model = torch.load(new_model_file_path, map_location=torch.device('cpu'))\n",
    "\n",
    "len(my_model), len(new_model)"
   ],
   "metadata": {
    "collapsed": false,
    "pycharm": {
     "name": "#%%\n"
    }
   }
  },
  {
   "cell_type": "code",
   "execution_count": null,
   "outputs": [],
   "source": [
    "for my_item, new_item in zip(my_model.items(), new_model.items()):\n",
    "    print(\"*\" * 80)\n",
    "    print(f\"M: {my_item[0]} {list(my_item[1].shape)}\")\n",
    "    print(f\"N: {new_item[0]} {list(new_item[1].shape)}\")"
   ],
   "metadata": {
    "collapsed": false,
    "pycharm": {
     "name": "#%%\n"
    }
   }
  },
  {
   "cell_type": "code",
   "execution_count": null,
   "outputs": [],
   "source": [
    "new_model_data = OrderedDict()\n",
    "\n",
    "for my_item, new_item in zip(my_model.items(), new_model.items()):\n",
    "    new_model_data[my_item[0]] = new_item[1]\n",
    "\n",
    "for item in new_model_data.items():\n",
    "    print(f\"{item[0]} {list(item[1].shape)}\")\n",
    "\n",
    "torch.save(new_model_data, \"../model_combined.pth\")"
   ],
   "metadata": {
    "collapsed": false,
    "pycharm": {
     "name": "#%%\n"
    }
   }
  },
  {
   "cell_type": "code",
   "execution_count": 11,
   "outputs": [
    {
     "name": "stdout",
     "output_type": "stream",
     "text": [
      "2\n",
      "6\n",
      "1\n"
     ]
    }
   ],
   "source": [
    "from torch.utils.data import random_split\n",
    "\n",
    "a, b = random_split(range(10), [3, 7], generator=torch.Generator().manual_seed(42))\n",
    "for i in a:\n",
    "    print(i)"
   ],
   "metadata": {
    "collapsed": false,
    "pycharm": {
     "name": "#%%"
    }
   }
  },
  {
   "cell_type": "code",
   "execution_count": 16,
   "outputs": [],
   "source": [
    "from sot.utils import concat_imgs, ColorT\n",
    "\n",
    "class SiameseTrackingVisualizer:\n",
    "    def __init__(\n",
    "            self, exemplar_img: np.ndarray, *,\n",
    "            border_value: ColorT = (0, 0, 0),\n",
    "            win_name: str = \"Siamese Tracking Preview\") -> None:\n",
    "        self.exemplar_img: np.ndarray = exemplar_img\n",
    "        self.border_value: ColorT = border_value\n",
    "        self.win_name: str = win_name\n",
    "\n",
    "    def show_curr_state(\n",
    "            self, curr_frame: np.ndarray, instance_img: np.ndarray,\n",
    "            response_map: np.ndarray) -> None:\n",
    "        row = concat_imgs(\n",
    "            (self.exemplar_img, instance_img, response_map), row=True,\n",
    "            border_value=self.border_value)\n",
    "        preview_img = concat_imgs(\n",
    "            (curr_frame, row), row=False, border_value=self.border_value)\n",
    "        cv.imshow(self.win_name, preview_img)\n",
    "        cv.waitKey(0)\n",
    "        cv.destroyWindow(self.win_name)\n",
    "\n",
    "exemplar_img = np.ones((127, 127, 3)) * (255, 0, 0)\n",
    "instance_img = np.ones((255, 255, 3)) * (0, 255, 0)\n",
    "\n",
    "visualizer = SiameseTrackingVisualizer(exemplar_img)\n",
    "\n",
    "for _ in range(5):\n",
    "    response_map = np.random.randint(0, 256, (272, 272, 1)).round().astype(np.uint8)\n",
    "    response_map = cv.cvtColor(response_map, cv.COLOR_GRAY2BGR)\n",
    "    curr_frame = np.random.randint(0, 256, (600, 800, 3)).round().astype(np.uint8)\n",
    "    visualizer.show_curr_state(curr_frame, instance_img, response_map)\n"
   ],
   "metadata": {
    "collapsed": false,
    "pycharm": {
     "name": "#%%\n"
    }
   }
  }
 ],
 "metadata": {
  "kernelspec": {
   "name": "python3",
   "language": "python",
   "display_name": "Python 3"
  },
  "language_info": {
   "codemirror_mode": {
    "name": "ipython",
    "version": 2
   },
   "file_extension": ".py",
   "mimetype": "text/x-python",
   "name": "python",
   "nbconvert_exporter": "python",
   "pygments_lexer": "ipython2",
   "version": "2.7.6"
  }
 },
 "nbformat": 4,
 "nbformat_minor": 0
}