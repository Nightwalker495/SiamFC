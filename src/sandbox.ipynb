{
 "cells": [
  {
   "cell_type": "code",
   "execution_count": 3,
   "outputs": [
    {
     "name": "stdout",
     "output_type": "stream",
     "text": [
      "The autoreload extension is already loaded. To reload it, use:\n",
      "  %reload_ext autoreload\n"
     ]
    }
   ],
   "source": [
    "#!/usr/bin/env python\n",
    "# -*- coding: utf-8 -*-\n",
    "\n",
    "# Author: Milan Ondrasovic <milan.ondrasovic@gmail.com>\n",
    "\n",
    "from typing import *\n",
    "\n",
    "import torch\n",
    "import torch.nn as nn\n",
    "import torch.nn.functional as F\n",
    "from torchvision import transforms\n",
    "\n",
    "import cv2 as cv\n",
    "import numpy as np\n",
    "\n",
    "import matplotlib.pyplot as plt\n",
    "\n",
    "from PIL import Image, ImageStat, ImageOps\n",
    "\n",
    "from sot.bbox import BBox\n",
    "from sot.utils import Size\n",
    "\n",
    "plt.style.use('tableau-colorblind10')\n",
    "plt.rcParams['font.family'] = 'Times New Roman'\n",
    "plt.rcParams['font.size'] = 11\n",
    "\n",
    "%load_ext autoreload\n",
    "%autoreload 2"
   ],
   "metadata": {
    "collapsed": false,
    "pycharm": {
     "name": "#%%\n"
    }
   }
  },
  {
   "cell_type": "code",
   "execution_count": null,
   "outputs": [],
   "source": [
    "my_model_file_path = \"../model_49.pth\"\n",
    "my_model = torch.load(my_model_file_path, map_location=torch.device('cpu'))\n",
    "\n",
    "new_model_file_path = \"../siamfc_alexnet_e50.pth\"\n",
    "new_model = torch.load(new_model_file_path, map_location=torch.device('cpu'))"
   ],
   "metadata": {
    "collapsed": false,
    "pycharm": {
     "name": "#%%\n"
    }
   }
  },
  {
   "cell_type": "code",
   "execution_count": 16,
   "outputs": [
    {
     "data": {
      "text/plain": "torch.Size([10, 1, 17, 17])"
     },
     "execution_count": 16,
     "metadata": {},
     "output_type": "execute_result"
    }
   ],
   "source": [
    "def cross_corr(\n",
    "        exemplar_emb: torch.Tensor,\n",
    "        instance_emb: torch.Tensor) -> torch.Tensor:\n",
    "    n_exemplars = exemplar_emb.shape[0]\n",
    "    n_instances, instance_c, instance_h, instance_w = instance_emb.shape\n",
    "\n",
    "    instance_emb = instance_emb.reshape(\n",
    "        -1, n_exemplars * instance_c, instance_h, instance_w)\n",
    "    response_map = F.conv2d(\n",
    "        input=instance_emb, weight=exemplar_emb, groups=n_exemplars)\n",
    "    response_map = response_map.reshape(\n",
    "        n_instances, -1, response_map.shape[-2], response_map.shape[-1])\n",
    "\n",
    "    return response_map\n",
    "\n",
    "def fast_xcorr(z, x):\n",
    "    nz = z.size(0)\n",
    "    nx, c, h, w = x.size()\n",
    "    x = x.view(-1, nz * c, h, w)\n",
    "    out = F.conv2d(x, z, groups=nz)\n",
    "    out = out.view(nx, -1, out.size(-2), out.size(-1))\n",
    "    return out\n",
    "\n",
    "exemplar_emb = torch.ones(1, 10, 6, 6)\n",
    "instance_emb = torch.ones(10, 10, 22, 22)\n",
    "\n",
    "# my_response = cross_corr(exemplar_emb, instance_emb)\n",
    "his_response = cross_corr(exemplar_emb, instance_emb)\n",
    "his_response.shape"
   ],
   "metadata": {
    "collapsed": false,
    "pycharm": {
     "name": "#%%\n"
    }
   }
  },
  {
   "cell_type": "code",
   "execution_count": null,
   "outputs": [],
   "source": [
    "def print_model_info(model):\n",
    "    for item in model.items():\n",
    "        print(f\"{item[0]}: {list(item[1].shape)}\")\n",
    "\n",
    "print_model_info(my_model)"
   ],
   "metadata": {
    "collapsed": false,
    "pycharm": {
     "name": "#%%\n"
    }
   }
  }
 ],
 "metadata": {
  "kernelspec": {
   "name": "python3",
   "language": "python",
   "display_name": "Python 3"
  },
  "language_info": {
   "codemirror_mode": {
    "name": "ipython",
    "version": 2
   },
   "file_extension": ".py",
   "mimetype": "text/x-python",
   "name": "python",
   "nbconvert_exporter": "python",
   "pygments_lexer": "ipython2",
   "version": "2.7.6"
  }
 },
 "nbformat": 4,
 "nbformat_minor": 0
}