{
 "cells": [
  {
   "cell_type": "code",
   "execution_count": 1,
   "outputs": [],
   "source": [
    "import torch\n",
    "import torch.nn as nn\n",
    "import torch.nn.functional as F\n",
    "\n",
    "import cv2 as cv\n",
    "import numpy as np\n",
    "\n",
    "import matplotlib.pyplot as plt\n",
    "\n",
    "plt.style.use('tableau-colorblind10')\n",
    "plt.rcParams['font.family'] = 'Times New Roman'\n",
    "plt.rcParams['font.size'] = 11\n",
    "\n",
    "%load_ext autoreload\n",
    "%autoreload 2"
   ],
   "metadata": {
    "collapsed": false,
    "pycharm": {
     "name": "#%%\n"
    }
   }
  },
  {
   "cell_type": "code",
   "execution_count": 191,
   "outputs": [],
   "source": [
    "def cross_corr(\n",
    "        exemplar_emb: torch.Tensor,\n",
    "        instance_emb: torch.Tensor) -> torch.Tensor:\n",
    "    assert exemplar_emb.ndim == instance_emb.ndim\n",
    "    assert exemplar_emb.ndim == 4\n",
    "\n",
    "    n_instances, instance_c, instance_h, instance_w = instance_emb.shape\n",
    "\n",
    "    instance_emb = instance_emb.reshape(1, -1, instance_h, instance_w)\n",
    "    response_map = F.conv2d(\n",
    "        input=instance_emb, weight=exemplar_emb, groups=n_instances)\n",
    "    response_map = response_map.reshape(\n",
    "        n_instances, -1, response_map.shape[-2], response_map.shape[-1])\n",
    "\n",
    "    return response_map\n",
    "\n",
    "s = 18\n",
    "loss_grid = np.zeros((s, s))\n",
    "\n",
    "for r in range(0, s):\n",
    "    for c in range(0, s):\n",
    "        exemplar_size = 5\n",
    "        instance_size = 22\n",
    "        exemplar_emb = np.ones((exemplar_size, exemplar_size, 1))\n",
    "        instance_emb = np.zeros((instance_size, instance_size, 1))\n",
    "        exemplar_row, exemplar_col = r, c\n",
    "        instance_emb[\n",
    "            exemplar_row:exemplar_row + exemplar_size,\n",
    "            exemplar_col:exemplar_col + exemplar_size, 0] = 1\n",
    "\n",
    "        # plt.imshow(instance_emb, cmap='binary')\n",
    "        # plt.show()\n",
    "\n",
    "        # def to_tensor(arr):\n",
    "        #     return torch.from_numpy(np.transpose(arr, axes=(2, 0, 1))[None, ...])\n",
    "        #\n",
    "        # exemplar_emb = to_tensor(exemplar_emb)\n",
    "        # instance_emb = to_tensor(instance_emb)\n",
    "\n",
    "        # response = cross_corr(exemplar_emb, instance_emb)\n",
    "        # response = response.cpu().detach().numpy()\n",
    "        # response = np.transpose(np.squeeze(response, axis=0), axes=(1, 2, 0))\n",
    "        #\n",
    "        # print(np.unravel_index(response.argmax(), response.shape))\n",
    "        #\n",
    "        # plt.imshow(response, cmap='binary')\n",
    "        # plt.show()\n",
    "\n",
    "        def to_tensor(arr):\n",
    "            return torch.from_numpy(\n",
    "                np.transpose(arr, axes=(2, 0, 1))[None, ...])\n",
    "\n",
    "        exemplar_emb = to_tensor(exemplar_emb)\n",
    "        instance_emb = to_tensor(instance_emb)\n",
    "\n",
    "        response = cross_corr(exemplar_emb, instance_emb)\n",
    "\n",
    "        from sot.losses import WeightedBCELoss\n",
    "        from sot.utils import create_ground_truth_mask_and_weight\n",
    "\n",
    "        mask_mat, weight_mat = create_ground_truth_mask_and_weight(\n",
    "            (s, s), 16, 8, 1)\n",
    "\n",
    "        mask_mat = torch.from_numpy(mask_mat)\n",
    "        weight_mat = torch.from_numpy(weight_mat)\n",
    "\n",
    "        criterion = WeightedBCELoss(weight_mat)\n",
    "        loss = criterion(response, mask_mat)\n",
    "        loss_grid[r, c] = loss.item()\n"
   ],
   "metadata": {
    "collapsed": false,
    "pycharm": {
     "name": "#%%\n"
    }
   }
  },
  {
   "cell_type": "code",
   "execution_count": 192,
   "outputs": [
    {
     "data": {
      "text/plain": "<Figure size 432x288 with 1 Axes>",
      "image/png": "[encoded data removed]"
     },
     "metadata": {
      "needs_background": "light"
     },
     "output_type": "display_data"
    }
   ],
   "source": [
    "mask = np.squeeze(mask_mat.numpy())\n",
    "plt.imshow(loss_grid, cmap='binary')\n",
    "plt.show()"
   ],
   "metadata": {
    "collapsed": false,
    "pycharm": {
     "name": "#%%\n"
    }
   }
  }
 ],
 "metadata": {
  "kernelspec": {
   "name": "python3",
   "language": "python",
   "display_name": "Python 3"
  },
  "language_info": {
   "codemirror_mode": {
    "name": "ipython",
    "version": 2
   },
   "file_extension": ".py",
   "mimetype": "text/x-python",
   "name": "python",
   "nbconvert_exporter": "python",
   "pygments_lexer": "ipython2",
   "version": "2.7.6"
  }
 },
 "nbformat": 4,
 "nbformat_minor": 0
}