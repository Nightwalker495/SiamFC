{
 "cells": [
  {
   "cell_type": "code",
   "execution_count": 2,
   "outputs": [],
   "source": [
    "#!/usr/bin/env python\n",
    "# -*- coding: utf-8 -*-\n",
    "\n",
    "# Author: Milan Ondrasovic <milan.ondrasovic@gmail.com>\n",
    "\n",
    "from typing import *\n",
    "\n",
    "import torch\n",
    "import torch.nn as nn\n",
    "import torch.nn.functional as F\n",
    "from torchvision import transforms\n",
    "\n",
    "import cv2 as cv\n",
    "import numpy as np\n",
    "\n",
    "import matplotlib.pyplot as plt\n",
    "\n",
    "from PIL import Image, ImageStat, ImageOps\n",
    "\n",
    "from sot.bbox import BBox\n",
    "from sot.utils import Size\n",
    "\n",
    "plt.style.use('tableau-colorblind10')\n",
    "plt.rcParams['font.family'] = 'Times New Roman'\n",
    "plt.rcParams['font.size'] = 11\n",
    "\n",
    "%load_ext autoreload\n",
    "%autoreload 2"
   ],
   "metadata": {
    "collapsed": false,
    "pycharm": {
     "name": "#%%\n"
    }
   }
  },
  {
   "cell_type": "code",
   "execution_count": 14,
   "outputs": [],
   "source": [
    "my_model_file_path = \"../model_49.pth\"\n",
    "my_model = torch.load(my_model_file_path, map_location=torch.device('cpu'))\n",
    "\n",
    "new_model_file_path = \"../siamfc_alexnet_e50.pth\"\n",
    "new_model = torch.load(new_model_file_path, map_location=torch.device('cpu'))"
   ],
   "metadata": {
    "collapsed": false,
    "pycharm": {
     "name": "#%%\n"
    }
   }
  },
  {
   "cell_type": "code",
   "execution_count": 16,
   "outputs": [
    {
     "data": {
      "text/plain": "(35, 30)"
     },
     "execution_count": 16,
     "metadata": {},
     "output_type": "execute_result"
    }
   ],
   "source": [],
   "metadata": {
    "collapsed": false,
    "pycharm": {
     "name": "#%%\n"
    }
   }
  },
  {
   "cell_type": "code",
   "execution_count": 17,
   "outputs": [
    {
     "name": "stdout",
     "output_type": "stream",
     "text": [
      "conv1.block.0.weight: [96, 3, 11, 11]\n",
      "conv1.block.0.bias: [96]\n",
      "conv1.block.1.weight: [96]\n",
      "conv1.block.1.bias: [96]\n",
      "conv1.block.1.running_mean: [96]\n",
      "conv1.block.1.running_var: [96]\n",
      "conv1.block.1.num_batches_tracked: []\n",
      "conv2.block.0.weight: [256, 48, 5, 5]\n",
      "conv2.block.0.bias: [256]\n",
      "conv2.block.1.weight: [256]\n",
      "conv2.block.1.bias: [256]\n",
      "conv2.block.1.running_mean: [256]\n",
      "conv2.block.1.running_var: [256]\n",
      "conv2.block.1.num_batches_tracked: []\n",
      "conv3.block.0.weight: [384, 256, 3, 3]\n",
      "conv3.block.0.bias: [384]\n",
      "conv3.block.1.weight: [384]\n",
      "conv3.block.1.bias: [384]\n",
      "conv3.block.1.running_mean: [384]\n",
      "conv3.block.1.running_var: [384]\n",
      "conv3.block.1.num_batches_tracked: []\n",
      "conv4.block.0.weight: [384, 384, 3, 3]\n",
      "conv4.block.0.bias: [384]\n",
      "conv4.block.1.weight: [384]\n",
      "conv4.block.1.bias: [384]\n",
      "conv4.block.1.running_mean: [384]\n",
      "conv4.block.1.running_var: [384]\n",
      "conv4.block.1.num_batches_tracked: []\n",
      "conv5.block.0.weight: [256, 192, 3, 3]\n",
      "conv5.block.0.bias: [256]\n",
      "conv5.block.1.weight: [256]\n",
      "conv5.block.1.bias: [256]\n",
      "conv5.block.1.running_mean: [256]\n",
      "conv5.block.1.running_var: [256]\n",
      "conv5.block.1.num_batches_tracked: []\n"
     ]
    }
   ],
   "source": [
    "def print_model_info(model):\n",
    "    for item in model.items():\n",
    "        print(f\"{item[0]}: {list(item[1].shape)}\")\n",
    "\n",
    "print_model_info(my_model)"
   ],
   "metadata": {
    "collapsed": false,
    "pycharm": {
     "name": "#%%\n"
    }
   }
  }
 ],
 "metadata": {
  "kernelspec": {
   "name": "python3",
   "language": "python",
   "display_name": "Python 3"
  },
  "language_info": {
   "codemirror_mode": {
    "name": "ipython",
    "version": 2
   },
   "file_extension": ".py",
   "mimetype": "text/x-python",
   "name": "python",
   "nbconvert_exporter": "python",
   "pygments_lexer": "ipython2",
   "version": "2.7.6"
  }
 },
 "nbformat": 4,
 "nbformat_minor": 0
}