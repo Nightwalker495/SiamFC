{
 "cells": [
  {
   "cell_type": "code",
   "execution_count": null,
   "metadata": {
    "collapsed": true
   },
   "outputs": [],
   "source": [
    " # -*- coding: utf-8 -*-\n",
    "#\n",
    "# Author: Milan Ondrasovic <milan.ondrasovic@gmail.com>\n",
    "#\n",
    "# MIT License\n",
    "#\n",
    "# Copyright (c) 2021 Milan Ondrašovič\n",
    "#\n",
    "# Permission is hereby granted, free of charge, to any person obtaining a copy\n",
    "# of this software and associated documentation files (the \"Software\"), to deal\n",
    "# in the Software without restriction, including without limitation the rights\n",
    "# to use, copy, modify, merge, publish, distribute, sublicense, and/or sell\n",
    "# copies of the Software, and to permit persons to whom the Software is\n",
    "# furnished to do so, subject to the following conditions:\n",
    "#\n",
    "# The above copyright notice and this permission notice shall be included in all\n",
    "# copies or substantial portions of the Software.\n",
    "#\n",
    "# THE SOFTWARE IS PROVIDED \"AS IS\", WITHOUT WARRANTY OF ANY KIND, EXPRESS OR\n",
    "# IMPLIED, INCLUDING BUT NOT LIMITED TO THE WARRANTIES OF MERCHANTABILITY,\n",
    "# FITNESS FOR A PARTICULAR PURPOSE AND NONINFRINGEMENT. IN NO EVENT SHALL THE\n",
    "# AUTHORS OR COPYRIGHT HOLDERS BE LIABLE FOR ANY CLAIM, DAMAGES OR OTHER\n",
    "# LIABILITY, WHETHER IN AN ACTION OF CONTRACT, TORT OR OTHERWISE, ARISING FROM,\n",
    "# OUT OF OR IN CONNECTION WITH THE SOFTWARE OR THE USE OR OTHER DEALINGS IN THE\n",
    "# SOFTWARE.\n",
    "\n",
    "import json\n",
    "import pickle\n",
    "import pathlib\n",
    "import numpy as np\n",
    "import dataclasses\n",
    "import pandas as pd\n",
    "import matplotlib.pyplot as plt\n",
    "\n",
    "plt.style.use('tableau-colorblind10')\n",
    "pd.set_option('display.float_format', lambda x: '%.5f' % x)\n",
    "plt.rcParams['font.family'] = 'Times New Roman'\n",
    "plt.rcParams['font.size'] = 11\n",
    "\n",
    "%matplotlib inline\n",
    "\n",
    "%load_ext autoreload\n",
    "%autoreload 2"
   ]
  },
  {
   "cell_type": "code",
   "execution_count": null,
   "outputs": [],
   "source": [
    "def read_otb_report(performance_file_path):\n",
    "    with open(performance_file_path, 'rt') as in_file:\n",
    "        performance = json.load(in_file)\n",
    "\n",
    "    top_level_key = next(iter(performance.keys()))\n",
    "    overall_performance = performance[top_level_key]['overall']\n",
    "\n",
    "    return overall_performance\n",
    "\n",
    "def extract_context_from_name(tracker_name):\n",
    "    tokens = tracker_name.split('_')\n",
    "    batch_size = int(tokens[-2])\n",
    "    epoch = int(tokens[-1])\n",
    "    return batch_size, epoch\n",
    "\n",
    "def read_otb_reports(reports_dir_path):\n",
    "    data = []\n",
    "\n",
    "    for tracker_report_dir in pathlib.Path(reports_dir_path).iterdir():\n",
    "        performance_file_path = str(tracker_report_dir / \"performance.json\")\n",
    "        overall_performance = read_otb_report(performance_file_path)\n",
    "\n",
    "        batch_size, epoch = extract_context_from_name(tracker_report_dir.stem)\n",
    "\n",
    "        record = {'batch_size': batch_size, 'epoch': epoch}\n",
    "        stats = (\n",
    "            'success_score', 'precision_score', 'success_rate', 'speed_fps')\n",
    "        record.update({item: overall_performance[item] for item in stats})\n",
    "        data.append(record)\n",
    "\n",
    "    return pd.DataFrame(data)\n",
    "\n",
    "reports_dir_path = \"../reports/OTB2013\"\n",
    "stats = read_otb_reports(reports_dir_path)\n",
    "stats"
   ],
   "metadata": {
    "collapsed": false,
    "pycharm": {
     "name": "#%%\n"
    }
   }
  }
 ],
 "metadata": {
  "kernelspec": {
   "display_name": "Python 3",
   "language": "python",
   "name": "python3"
  },
  "language_info": {
   "codemirror_mode": {
    "name": "ipython",
    "version": 2
   },
   "file_extension": ".py",
   "mimetype": "text/x-python",
   "name": "python",
   "nbconvert_exporter": "python",
   "pygments_lexer": "ipython2",
   "version": "2.7.6"
  }
 },
 "nbformat": 4,
 "nbformat_minor": 0
}